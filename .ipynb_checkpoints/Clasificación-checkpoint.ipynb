{
 "cells": [
  {
   "cell_type": "code",
   "execution_count": 22,
   "metadata": {},
   "outputs": [
    {
     "name": "stdout",
     "output_type": "stream",
     "text": [
      "¿Jugara o no jugara? si=1 no=2\n",
      "None1\n",
      "Seleccione el clima: Nublado=1, Soleado=2, Lluvioso=3\n",
      "None1\n",
      "1.0\n"
     ]
    }
   ],
   "source": [
    "c = int(input(print(\"¿Jugara o no jugara? si=1 no=2\")))\n",
    "x = int(input(print(\"Seleccione el clima: Nublado=1, Soleado=2, Lluvioso=3\")))\n",
    "umbral = 1/2\n",
    "if c==1:\n",
    "    probc=9/14\n",
    "    if x==1:\n",
    "        probxc= 4/9\n",
    "        probx=4/14\n",
    "    elif x==2:\n",
    "        probxc= 2/9\n",
    "        probx=5/14\n",
    "    elif x==3:\n",
    "        probxc= 3/9\n",
    "        probx=5/14\n",
    "    else:\n",
    "        print(\"Error: no selecciono una opción válida\")\n",
    "elif c==2:\n",
    "    probc=5/14\n",
    "    if x==1:\n",
    "        probxc= 0\n",
    "        probx=4/14\n",
    "    elif x==2:\n",
    "        probxc= 3/5\n",
    "        probx=5/14\n",
    "    elif x==3:\n",
    "        probxc= 2/5\n",
    "        probx=5/14\n",
    "    else:\n",
    "        print(\"Error: no selecciono una opción válida\")\n",
    "else:\n",
    "    print(\"Error: no selecciono una opción válida\")\n",
    "    \n",
    "bayes=probxc*probc/probx\n",
    "\n",
    "if bayes>umbral:\n",
    "    print(\"Tu predicción es probable para un umbral de .5\")\n",
    "else\n",
    "    print(\"Tu predicción es improbable para un umbral de .5\")\n",
    "print(bayes)"
   ]
  },
  {
   "cell_type": "code",
   "execution_count": null,
   "metadata": {},
   "outputs": [],
   "source": []
  },
  {
   "cell_type": "code",
   "execution_count": null,
   "metadata": {},
   "outputs": [],
   "source": []
  }
 ],
 "metadata": {
  "kernelspec": {
   "display_name": "Python 3",
   "language": "python",
   "name": "python3"
  },
  "language_info": {
   "codemirror_mode": {
    "name": "ipython",
    "version": 3
   },
   "file_extension": ".py",
   "mimetype": "text/x-python",
   "name": "python",
   "nbconvert_exporter": "python",
   "pygments_lexer": "ipython3",
   "version": "3.7.4"
  }
 },
 "nbformat": 4,
 "nbformat_minor": 2
}
