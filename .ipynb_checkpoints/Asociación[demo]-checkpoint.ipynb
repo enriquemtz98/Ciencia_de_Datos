{
 "cells": [
  {
   "cell_type": "code",
   "execution_count": 50,
   "metadata": {},
   "outputs": [
    {
     "name": "stdout",
     "output_type": "stream",
     "text": [
      "[['lapicera', 'tinta', 'agenda', 'jabón'], ['lapicera', 'tinta', 'agenda'], ['lapicera', 'agenda'], ['lapicera', 'tinta', 'jabón', 'arroz']]\n",
      "lapicera si pasa el umbral para llegar al nivel 1\n",
      "tinta si pasa el umbral para llegar al nivel 1\n",
      "agenda si pasa el umbral para llegar al nivel 1\n"
     ]
    },
    {
     "data": {
      "text/plain": [
       "['lapicera', 'tinta', 'agenda']"
      ]
     },
     "execution_count": 50,
     "metadata": {},
     "output_type": "execute_result"
    }
   ],
   "source": [
    "id110= [\"lapicera\", \"tinta\", \"agenda\", \"jabón\"]\n",
    "id111= [\"lapicera\", \"tinta\", \"agenda\", \"jabón\"]\n",
    "id112= [\"lapicera\", \"tinta\", \"agenda\"]\n",
    "id113= [\"lapicera\", \"agenda\"]\n",
    "id114= [\"lapicera\", \"tinta\", \"jabón\", \"arroz\"]\n",
    "ids=[id111,id112,id113,id114]\n",
    "print(ids)\n",
    "umbral=.7\n",
    "itemset=[]\n",
    "itemsetn1=[] \n",
    "itemsetn2=[] \n",
    "itemsetn3=[]\n",
    "id110.extend(id112), id110.extend(id113), id110.extend(id114), id110.extend(id111),\n",
    "[itemset.append(x) for x in id110 if x not in itemset]\n",
    "\n",
    "#nivel 1\n",
    "for i in range(len(itemset)):\n",
    "    cont=0\n",
    "    for j in range(4): #cantidad de ids\n",
    "        if itemset[i] in ids[j]:\n",
    "            cont=cont+1\n",
    "    if cont/4>=umbral:\n",
    "        print(itemset[i], \"si pasa el umbral para llegar al nivel 1\")\n",
    "        itemsetn1.append(itemset[i])\n",
    "        \n",
    "itemsetn1"
   ]
  },
  {
   "cell_type": "code",
   "execution_count": null,
   "metadata": {},
   "outputs": [],
   "source": []
  }
 ],
 "metadata": {
  "kernelspec": {
   "display_name": "Python 3",
   "language": "python",
   "name": "python3"
  },
  "language_info": {
   "codemirror_mode": {
    "name": "ipython",
    "version": 3
   },
   "file_extension": ".py",
   "mimetype": "text/x-python",
   "name": "python",
   "nbconvert_exporter": "python",
   "pygments_lexer": "ipython3",
   "version": "3.7.4"
  }
 },
 "nbformat": 4,
 "nbformat_minor": 2
}
