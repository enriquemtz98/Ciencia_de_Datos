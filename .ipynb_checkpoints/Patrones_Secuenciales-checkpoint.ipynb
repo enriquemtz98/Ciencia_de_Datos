{
 "cells": [
  {
   "cell_type": "code",
   "execution_count": 20,
   "metadata": {},
   "outputs": [
    {
     "name": "stdout",
     "output_type": "stream",
     "text": [
      "['A', 'B', 'C', 'F', 'G', 'E', 'D']\n",
      "B  paso el soporte con  3\n",
      "C  paso el soporte con  2\n",
      "E  paso el soporte con  2\n"
     ]
    }
   ],
   "source": [
    "def Busquedasecuencial(SID,x):\n",
    "    pos=0\n",
    "    encontrado=False\n",
    "    while pos<len(SID) and not encontrado:\n",
    "        if SID[pos] == x:\n",
    "            encontrado=True\n",
    "        else:\n",
    "            pos=pos+1\n",
    "    return encontrado\n",
    "\n",
    "#import pandas as pd\n",
    "SID0= [[\"A\",\"B\"],\"C\",[\"F\",\"G\"],\"G\",\"E\"]\n",
    "SID1= [[\"A\",\"B\"],\"C\",[\"F\",\"G\"],\"G\",\"E\"]       \n",
    "SID2= [[\"A\",\"D\"],\"C\",\"B\",[\"A\",\"B\",\"E\",\"F\"]]\n",
    "SID3= [\"A\",\"B\",[\"F\",\"G\"],\"E\"]\n",
    "SID4= [\"B\",[\"F\",\"G\"]]\n",
    "\n",
    "soporte=2\n",
    "SIDS=[SID1,SID2,SID3,SID4]\n",
    "\n",
    "#Juntando todo\n",
    "itemset=[]\n",
    "SID0.extend(SID1); SID0.extend(SID2); SID0.extend(SID3); SID0.extend(SID4);\n",
    "[itemset.append(x) for x in SID0 if x not in itemset]\n",
    "#print(itemset)\n",
    "\n",
    "#Volviendo todo lista\n",
    "newitemset=[]\n",
    "for i in range(len(itemset)):\n",
    "    if len(itemset[i])>1:\n",
    "        for j in range(len(itemset[i])): \n",
    "            newitemset.append(itemset[i][j])\n",
    "    else:\n",
    "        newitemset.append(itemset[i])\n",
    "#print(newitemset)    \n",
    "\n",
    "#Eliminando duplicados\n",
    "itemsetfinal=[]\n",
    "[itemsetfinal.append(x) for x in newitemset if x not in itemsetfinal]\n",
    "print(itemsetfinal)\n",
    "\n",
    "\n",
    "##print(SIDS)\n",
    "for j in range(len(itemsetfinal)):\n",
    "    cont=0\n",
    "    for i in range(len(SIDS)):\n",
    "        if Busquedasecuencial(SIDS[i],itemsetfinal[j])== True:\n",
    "            #print(itemset[j])\n",
    "            #print(SIDS[i])\n",
    "            cont=cont+1\n",
    "    if cont >= soporte:\n",
    "        print(itemsetfinal[j], \" paso el soporte con \", cont)\n",
    "\n",
    "\n",
    "\n",
    "\n",
    "\n",
    "#data={\"Patron\":itemset, \"Soporte\": }\n",
    "#df=pd.DataFrame(data)\n",
    "#print(df)\n"
   ]
  },
  {
   "cell_type": "code",
   "execution_count": null,
   "metadata": {},
   "outputs": [],
   "source": []
  },
  {
   "cell_type": "code",
   "execution_count": null,
   "metadata": {},
   "outputs": [],
   "source": []
  }
 ],
 "metadata": {
  "kernelspec": {
   "display_name": "Python 3",
   "language": "python",
   "name": "python3"
  },
  "language_info": {
   "codemirror_mode": {
    "name": "ipython",
    "version": 3
   },
   "file_extension": ".py",
   "mimetype": "text/x-python",
   "name": "python",
   "nbconvert_exporter": "python",
   "pygments_lexer": "ipython3",
   "version": "3.7.4"
  }
 },
 "nbformat": 4,
 "nbformat_minor": 2
}
