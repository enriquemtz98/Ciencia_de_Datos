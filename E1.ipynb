{
 "cells": [
  {
   "cell_type": "markdown",
   "metadata": {},
   "source": [
    "# Examen 2: Ejercicios de Python.\n",
    "## Enrique Martínez Granados\n",
    "### 1837553\n",
    "### Grupo 002    Viernes de 15:00 - 18:00 hrs"
   ]
  },
  {
   "cell_type": "markdown",
   "metadata": {},
   "source": [
    "Al momento de responder las preguntas, cerciorense de que les imprima el resultado. "
   ]
  },
  {
   "cell_type": "markdown",
   "metadata": {},
   "source": [
    "### 1.- Dando lista A = [3, 2, 7, 4, 12, 9, 6, 1] desarrolla los siguientes 3 ejercicios.\n",
    "\n",
    "- Imprime la sumatoria de todos los elementos.\n",
    "- Ordenalos de mayor a menor.\n",
    "- Haz una nueva lista pero solo con sus elementos pares."
   ]
  },
  {
   "cell_type": "code",
   "execution_count": 6,
   "metadata": {},
   "outputs": [
    {
     "data": {
      "text/plain": [
       "44"
      ]
     },
     "execution_count": 6,
     "metadata": {},
     "output_type": "execute_result"
    }
   ],
   "source": [
    "#(Puntos 5)\n",
    "# Imprime la sumatoria de todos los elementos en a = [3, 2, 7, 4, 12, 9, 6, 1].\n",
    "A=[3,2,7,4,12,9,6,1]\n",
    "sum(A)\n"
   ]
  },
  {
   "cell_type": "code",
   "execution_count": 5,
   "metadata": {},
   "outputs": [
    {
     "data": {
      "text/plain": [
       "[12, 9, 7, 6, 4, 3, 2, 1]"
      ]
     },
     "execution_count": 5,
     "metadata": {},
     "output_type": "execute_result"
    }
   ],
   "source": [
    "#(Puntos 10)\n",
    "# Ordenalos de mayor a menor\n",
    "sorted(A,reverse=True)"
   ]
  },
  {
   "cell_type": "code",
   "execution_count": 23,
   "metadata": {},
   "outputs": [
    {
     "data": {
      "text/plain": [
       "[2, 4, 12, 6]"
      ]
     },
     "execution_count": 23,
     "metadata": {},
     "output_type": "execute_result"
    }
   ],
   "source": [
    "#(Puntos 10)\n",
    "# Haz una nueva lista pero solo con sus elementos pares\n",
    "pares=[]\n",
    "for nums in A:\n",
    "    if nums%2==0:\n",
    "        pares.append(nums)\n",
    "pares"
   ]
  },
  {
   "cell_type": "markdown",
   "metadata": {},
   "source": [
    "### 2.- Dale valor a dos variables y realiza 5 funciones que regresen como resultado diferentes operaciones aritmeticas (suma, resta, etc...). "
   ]
  },
  {
   "cell_type": "code",
   "execution_count": 21,
   "metadata": {},
   "outputs": [
    {
     "name": "stdout",
     "output_type": "stream",
     "text": [
      "Nuestra variable x tiene el valor de  8 \n",
      "Nuestra variable y tiene el valor de  5\n",
      "La suma entre 8 y 5 es de 13\n",
      "La resta entre 8 y 5 es de 3\n",
      "La multiplicación entre 8 y 5 es de 40\n",
      "La división entre 8 y 5 es de 1.6\n",
      "El módulo entre 8 y 5 es de 3\n"
     ]
    }
   ],
   "source": [
    "#(Puntos 15)\n",
    "\n",
    "def suma(x,y):\n",
    "    return print(\"La suma entre\",x,\"y\",y,\"es de\",x+y)\n",
    "def resta(x,y):\n",
    "    return print(\"La resta entre\",x,\"y\",y,\"es de\",x-y)\n",
    "def multiplicación(x,y):\n",
    "    return print(\"La multiplicación entre\",x,\"y\",y,\"es de\",x*y)\n",
    "def división(x,y):\n",
    "    return print(\"La división entre\",x,\"y\",y,\"es de\",x/y)\n",
    "def módulo(x,y):\n",
    "    return print(\"El módulo entre\",x,\"y\",y,\"es de\",x%y)\n",
    "\n",
    "x=8\n",
    "y=5\n",
    "print(\"Nuestra variable x tiene el valor de \",x , \"\\nNuestra variable y tiene el valor de \", y)\n",
    "suma(x,y)\n",
    "resta(x,y)\n",
    "multiplicación(x,y)\n",
    "división(x,y)\n",
    "módulo(x,y)"
   ]
  },
  {
   "cell_type": "markdown",
   "metadata": {},
   "source": [
    "### 3.- Dada la lista A = [3, 2, 7, 4, 12, 9, 6, 1] y lista B = [13, 16, 21, 34, 18, 17, 11, 10] crea una lista nueva que contenga solo los datos impares de ambas listas."
   ]
  },
  {
   "cell_type": "code",
   "execution_count": 25,
   "metadata": {},
   "outputs": [
    {
     "data": {
      "text/plain": [
       "[3, 7, 9, 1, 13, 21, 17, 11]"
      ]
     },
     "execution_count": 25,
     "metadata": {},
     "output_type": "execute_result"
    }
   ],
   "source": [
    "#(Puntos 15)\n",
    "A = [3, 2, 7, 4, 12, 9, 6, 1]\n",
    "B= [13, 16, 21, 34, 18, 17, 11, 10]\n",
    "\n",
    "impares=[]\n",
    "for nums in A:\n",
    "    if nums%2!=0:\n",
    "        impares.append(nums)\n",
    "for nums in B:\n",
    "    if nums%2!=0:\n",
    "        impares.append(nums)\n",
    "impares"
   ]
  },
  {
   "cell_type": "markdown",
   "metadata": {},
   "source": [
    "### 4.- Dadas las variables W = 11, X = 17, Y = 32, Z = 65, crea una función que clasifique por grupos de edad (niño, adolecente, adulto, adulto mayor. (Utiliza el elif)"
   ]
  },
  {
   "cell_type": "code",
   "execution_count": 29,
   "metadata": {},
   "outputs": [
    {
     "name": "stdout",
     "output_type": "stream",
     "text": [
      "De acuerdo a su edad usted es un/una niño/niña\n",
      "De acuerdo a su edad usted es un/una adolescente\n",
      "De acuerdo a su edad usted es un adulto \n",
      "De acuerdo a su edad usted es un adulto mayor\n"
     ]
    }
   ],
   "source": [
    "#(Puntos 15)\n",
    "\n",
    "def clasificación_por_edad(edad):\n",
    "    if 0<=edad<=12:\n",
    "        return print(\"De acuerdo a su edad usted es un/una niño/niña\")\n",
    "    elif edad <=18:\n",
    "        return print(\"De acuerdo a su edad usted es un/una adolescente\")\n",
    "    elif edad <=55:\n",
    "        return print(\"De acuerdo a su edad usted es un adulto \")\n",
    "    elif edad>55:\n",
    "        return print(\"De acuerdo a su edad usted es un adulto mayor\")\n",
    "    else:\n",
    "        return print(\"El dato que ingreso como edad no es valido\")\n",
    "W=11\n",
    "X=17\n",
    "Y=32\n",
    "Z=65\n",
    "\n",
    "clasificación_por_edad(W)\n",
    "clasificación_por_edad(X)\n",
    "clasificación_por_edad(Y)\n",
    "clasificación_por_edad(Z)"
   ]
  },
  {
   "cell_type": "markdown",
   "metadata": {},
   "source": [
    "### 5.- Utilizando cualquiera de las condicionales (for, if, while...) imprime los siguientes patrones tal y como aparecen en el comentario, respetando los espacios y los saltos de renglon.\n"
   ]
  },
  {
   "cell_type": "code",
   "execution_count": 44,
   "metadata": {},
   "outputs": [
    {
     "name": "stdout",
     "output_type": "stream",
     "text": [
      "1  \n",
      "2 2  \n",
      "3 3 3  \n",
      "4 4 4 4  \n",
      "5 5 5 5 5  \n"
     ]
    }
   ],
   "source": [
    "#(Puntos 10)\n",
    "#1 \n",
    "#2 2\n",
    "#3 3 3\n",
    "#4 4 4 4\n",
    "#5 5 5 5 5\n",
    "\n",
    "numeros=[1,2,3,4,5]\n",
    "menor_a_mayor=sorted(numeros)\n",
    "for nums in menor_a_mayor:\n",
    "    for i in range(nums):\n",
    "        print(nums, end=\" \")\n",
    "    print(\" \")"
   ]
  },
  {
   "cell_type": "code",
   "execution_count": 52,
   "metadata": {},
   "outputs": [
    {
     "name": "stdout",
     "output_type": "stream",
     "text": [
      "5 4 3 2 1  \n",
      "4 3 2 1  \n",
      "3 2 1  \n",
      "2 1  \n",
      "1  \n"
     ]
    }
   ],
   "source": [
    "#(Puntos 15)\n",
    "#5 4 3 2 1 \n",
    "#4 3 2 1\n",
    "#3 2 1 \n",
    "#2 1\n",
    "#1\n",
    "\n",
    "mayor_a_menor=sorted(numeros,reverse=True)\n",
    "modif=mayor_a_menor\n",
    "for nums in numeros:\n",
    "    for x in range(len(modif)):\n",
    "        print(modif[x], end=\" \")\n",
    "    modif=mayor_a_menor[nums:]\n",
    "    print(\" \")"
   ]
  },
  {
   "cell_type": "markdown",
   "metadata": {},
   "source": [
    "### 6.- Con la lista A = [3, 2, 7, 4, 12, 9, 6, 1] y el uso de condicionales, imprime una nueva lista con cada uno de los elementos de la lista A, al cuadrado."
   ]
  },
  {
   "cell_type": "code",
   "execution_count": 57,
   "metadata": {},
   "outputs": [
    {
     "name": "stdout",
     "output_type": "stream",
     "text": [
      "[9, 4, 49, 16, 144, 81, 36, 1]\n"
     ]
    }
   ],
   "source": [
    "#(Puntos 10)\n",
    "    \n",
    "A = [3, 2, 7, 4, 12, 9, 6, 1]\n",
    "B = [nums**2 for nums in A]\n",
    "print(B)"
   ]
  },
  {
   "cell_type": "markdown",
   "metadata": {},
   "source": [
    "### (Extra puntos 5.) \n",
    "\n",
    "Conteste los tres puntos para obtener la totalidad de los puntos.\n",
    "*Mencione al menos 3 palabras reservadas para el lenguaje de programación de Python.\n",
    "*Describa la diferencia principal entre las listas y las tuplas en Python.\n",
    "*Describa para que sirve el condicional ELIF.\n"
   ]
  },
  {
   "cell_type": "markdown",
   "metadata": {},
   "source": [
    "### 3 palabras reservadas para el lenguaje de programación en python:\n",
    "set, return, sorted, print, if, else, etc.\n",
    "\n",
    "### Diferencia principal entre las listas y las tuplas en python:\n",
    "A diferencia de las listas, las tuplas son inmutables.\n",
    "\n",
    "### Condicional elif:\n",
    "El condicional elif combina el comando else con el comando if, de manera que si estas realizando una comparación en la cual se puede obtener mas de 2 resultados debido a las circunstancias de tu compración, elif te ahorra el anidar una sentencia if dentro de la sentencia else pasada cada vez que quieres meterle algun criterio nuevo.\n",
    "\n",
    "un ejemplo:\n",
    "\n",
    "if 0<x<10:\n",
    "    print(x, \"es un numero positivo de un digito\")\n",
    "else:\n",
    "    if x<100:\n",
    "        print(x, \"es un numero positivo de dos digitos\")\n",
    "    else:\n",
    "       if x>=100:\n",
    "           print(x, \"es un numero positivo de tres digitos o mas\") \n",
    "       else:\n",
    "           print(x, \"no es un numero positivo\")\n",
    "\n",
    "Este codigo esta muy conuso y es muy grande, con la sentencia elif podemos solucionar esta cuestión.\n",
    "\n",
    "if 0<x<10:\n",
    "    print(x, \"es un numero positivo de un digito\")\n",
    "elif x<100:\n",
    "    print(x, \"es un numero positivo de dos digitos\")\n",
    "elif x>=100:\n",
    "    print(x, \"es un numero positivo de tres digitos o mas\")\n",
    "else:\n",
    "           print(x, \"no es un numero positivo\")\n",
    "           \n",
    "Como vemos el código termina siedno mas facil de leer y de seguir con la sentencia elif.\n"
   ]
  },
  {
   "cell_type": "code",
   "execution_count": null,
   "metadata": {},
   "outputs": [],
   "source": []
  }
 ],
 "metadata": {
  "kernelspec": {
   "display_name": "Python 3",
   "language": "python",
   "name": "python3"
  },
  "language_info": {
   "codemirror_mode": {
    "name": "ipython",
    "version": 3
   },
   "file_extension": ".py",
   "mimetype": "text/x-python",
   "name": "python",
   "nbconvert_exporter": "python",
   "pygments_lexer": "ipython3",
   "version": "3.7.4"
  }
 },
 "nbformat": 4,
 "nbformat_minor": 2
}
