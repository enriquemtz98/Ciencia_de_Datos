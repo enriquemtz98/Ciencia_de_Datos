{
 "cells": [
  {
   "cell_type": "code",
   "execution_count": 125,
   "metadata": {},
   "outputs": [
    {
     "name": "stdout",
     "output_type": "stream",
     "text": [
      "lapicera  si pasa el umbral para llegar al nivel 1\n",
      "tinta  si pasa el umbral para llegar al nivel 1\n",
      "agenda  si pasa el umbral para llegar al nivel 1\n",
      "jabón  no pasa el umbral para llegar al nivel 1\n",
      "arroz  no pasa el umbral para llegar al nivel 1\n",
      "('lapicera', 'tinta')  si pasa el umbral para llegar al nivel 2\n",
      "('lapicera', 'agenda')  si pasa el umbral para llegar al nivel 2\n",
      "('tinta', 'agenda')  no pasa el umbral para llegar al nivel 2\n",
      "['lapicera', 'tinta', 'agenda']  no pasa el umbral para llegar al nivel 3\n",
      "Los datos solo nos dejan llegar hasta el nivel 2\n"
     ]
    }
   ],
   "source": [
    "def Busquedasecuencial(SID,x):\n",
    "    pos=0\n",
    "    encontrado=False\n",
    "    while pos<len(SID) and not encontrado:\n",
    "        if SID[pos] == x:\n",
    "            encontrado=True\n",
    "        else:\n",
    "            pos=pos+1\n",
    "    return encontrado\n",
    "\n",
    "def niveles(nivel,itemset,ids):\n",
    "    umbral=.7\n",
    "    valorbueno=[]\n",
    "    for j in range(len(itemset)):\n",
    "        cont=0\n",
    "        contsup=0\n",
    "        if nivel == 1:\n",
    "            for i in range(len(ids)):\n",
    "                if Busquedasecuencial(ids[i],itemset[j])== True:\n",
    "                    cont=cont+1\n",
    "            if cont/(4) >= umbral:\n",
    "                print(itemset[j], \" si pasa el umbral para llegar al nivel\", nivel)\n",
    "                valorbueno.append(itemset[j])\n",
    "            else: \n",
    "                print(itemset[j], \" no pasa el umbral para llegar al nivel\", nivel)\n",
    "        else:\n",
    "            for i in range(len(ids)):\n",
    "                cont=0\n",
    "                for k in range(len(itemset[j])):\n",
    "                    if Busquedasecuencial(ids[i],itemset[j][k])== True:\n",
    "                        cont=cont+1\n",
    "                if cont==nivel:\n",
    "                    contsup=contsup+1\n",
    "            if contsup/(4) >= umbral:\n",
    "                print(itemset[j], \" si pasa el umbral para llegar al nivel\", nivel)\n",
    "                valorbueno.append(itemset[j])\n",
    "            else: \n",
    "                print(itemset[j], \" no pasa el umbral para llegar al nivel\", nivel)\n",
    "    return valorbueno\n",
    "    \n",
    "\n",
    "\n",
    "id110= [\"lapicera\", \"tinta\", \"agenda\", \"jabón\"]\n",
    "id111= [\"lapicera\", \"tinta\", \"agenda\", \"jabón\"]\n",
    "id112= [\"lapicera\", \"tinta\", \"agenda\"]\n",
    "id113= [\"lapicera\", \"agenda\"]\n",
    "id114= [\"lapicera\", \"tinta\", \"jabón\", \"arroz\"]\n",
    "ids=[id111,id112,id113,id114]\n",
    "umbral=.7\n",
    "itemset=[]\n",
    "id110.extend(id112), id110.extend(id113), id110.extend(id114), id110.extend(id111),\n",
    "[itemset.append(x) for x in id110 if x not in itemset]\n",
    "\n",
    "#Nivel1\n",
    "nivel=1\n",
    "pasaron=niveles(nivel,itemset,ids)\n",
    "itemset=[]\n",
    "if len(pasaron)==0:\n",
    "    print(\"Los datos solo nos dejan llegar hasta el nivel\", nivel-1)\n",
    "for i in range(len(pasaron)):\n",
    "    for j in range((i+1),len(pasaron)):\n",
    "        concat=pasaron[i],pasaron[j]\n",
    "        itemset.append(concat)\n",
    "\n",
    "#Nivel 2\n",
    "nivel=nivel+1\n",
    "pasaron=niveles(nivel,itemset,ids)\n",
    "if len(pasaron)==0:\n",
    "    print(\"Los datos solo nos dejan llegar hasta el nivel\", nivel-1)\n",
    "#Volviendo todo lista\n",
    "newitemset=[]\n",
    "for i in range(len(pasaron)):\n",
    "    if len(pasaron[i])>1:\n",
    "        for j in range(len(pasaron[i])): \n",
    "            newitemset.append(itemset[i][j])\n",
    "    else:\n",
    "        newitemset.append(itemset[i])\n",
    "#eliminamos duplicados\n",
    "itemset=[]\n",
    "[itemset.append(x) for x in newitemset if x not in itemset]\n",
    "    \n",
    "#Nivel 3\n",
    "finalitemset=[itemset]\n",
    "nivel=nivel+1\n",
    "pasaron=niveles(nivel,finalitemset,ids)\n",
    "if len(pasaron)==0:\n",
    "    print(\"Los datos solo nos dejan llegar hasta el nivel\", nivel-1)\n",
    "\n",
    "\n"
   ]
  },
  {
   "cell_type": "code",
   "execution_count": 60,
   "metadata": {},
   "outputs": [
    {
     "name": "stdout",
     "output_type": "stream",
     "text": [
      "['lapicera', 'tinta', 'agenda', 'jabón', 'lapicera', 'tinta', 'agenda', 'lapicera', 'agenda', 'lapicera', 'tinta', 'jabón', 'arroz', 'lapicera', 'tinta', 'agenda', 'jabón']\n"
     ]
    }
   ],
   "source": [
    "print(id110)"
   ]
  },
  {
   "cell_type": "code",
   "execution_count": null,
   "metadata": {},
   "outputs": [],
   "source": []
  },
  {
   "cell_type": "code",
   "execution_count": null,
   "metadata": {},
   "outputs": [],
   "source": []
  },
  {
   "cell_type": "code",
   "execution_count": null,
   "metadata": {},
   "outputs": [],
   "source": []
  }
 ],
 "metadata": {
  "kernelspec": {
   "display_name": "Python 3",
   "language": "python",
   "name": "python3"
  },
  "language_info": {
   "codemirror_mode": {
    "name": "ipython",
    "version": 3
   },
   "file_extension": ".py",
   "mimetype": "text/x-python",
   "name": "python",
   "nbconvert_exporter": "python",
   "pygments_lexer": "ipython3",
   "version": "3.7.4"
  }
 },
 "nbformat": 4,
 "nbformat_minor": 2
}
